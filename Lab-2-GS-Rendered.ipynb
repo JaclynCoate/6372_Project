{
 "cells": [
  {
   "cell_type": "markdown",
   "metadata": {
    "colab_type": "text",
    "id": "7ghysF1zPnI-"
   },
   "source": [
    "# **Lab 2: Classification**\n",
    "\n",
    "**Group 2 Members:**\n",
    "Reagan Meagher, Jaclyn Coate, Megan Riley, and Matthew Chinchilla\n",
    "\n",
    "**Kaggle Link To Data:** [Data](https://www.kaggle.com/muonneutrino/us-census-demographic-data)\n",
    "\n",
    "**Classification Reference Notebook:** [Classification](https://nbviewer.jupyter.org/github/jakemdrew/DataMiningNotebooks/blob/master/06.%20Classification.ipynb)\n",
    "\n",
    "**Regression Reference Notebook:** [Regression](https://nbviewer.jupyter.org/github/jakemdrew/DataMiningNotebooks/blob/master/07.%20Regression.ipynb)\n",
    "\n",
    "**Logits & SVM Reference Notebook:** [Logits & SVM](https://github.com/jakemdrew/DataMiningNotebooks/blob/master/04.%20Logits%20and%20SVM.ipynb)\n",
    "\n",
    "**Class Imbalance Reference Notebook:** : [Class Imbalance](https://nbviewer.jupyter.org/github/jakemdrew/MachineLearningExtras/blob/master/LFW%20Dataset%20and%20Class%20Imbalance.ipynb)\n"
   ]
  },
  {
   "cell_type": "markdown",
   "metadata": {
    "colab_type": "text",
    "id": "HwdMTmqcQShy"
   },
   "source": [
    "##**1. Data Preparation**\n",
    "\n",
    "The data we used for this lab is the same as Lab 1 and the Mini Lab. It is a 2015 United States census data set for the all 50 states at the census tract level, accessed via Kaggle. This data set contains demographic data about each census tract such as ethnicity, job function, commute types, poverty, income, and unemployment. "
   ]
  },
  {
   "cell_type": "markdown",
   "metadata": {
    "colab_type": "text",
    "id": "H-jNeSZDRHDn"
   },
   "source": [
    "### **1.1 Data Preparation Part 1: Define and Prepare**\n",
    "\n",
    "We are performing classification predictive analysis on two tasks and have created two class variables *Poverty Class *and *Collar Class*. Our first task, *Poverty Class* has been created off of the continuous poverty percentage variables in our original data set. We created four different poverty classes: Low Poverty, Below Average Poverty, Above Average Poverty, and High Poverty. The bin thresholds used to create these four classes are the quartiles of the *Poverty* percentage variable. \n",
    "\n",
    "Based on these thresholds:\n",
    "\n",
    "    Low Poverty is between 0 and  7.2%\n",
    "\n",
    "    Below Average Poverty is between 7.2 and 13.4%\n",
    "\n",
    "    Above Average Poverty is between 13.4 and 23.1%\n",
    "\n",
    "    High Poverty is between 23.1 and 100%\n",
    "\n",
    "Our second task, *Collar Class*, has been created off of our aggregate job function variables: *Office, Professional, Production, Construction, and Service*. Below are the classification groups we created: White Collar and Blue Collar. We divied up the job function types between these two categories for a binary classification evaluation of the job function variables.\n",
    "\n",
    "    White Collar = Office + Professional\n",
    "\n",
    "    Blue Collar = Production + Construction + Service\n",
    "\n",
    "Some of our pre-processing methods for scaling was evaluating how our variables were being presented such as percentage and aggregate numerical form. Since, the majority of our variables represent percentages of a population from 0 to 100%, that fit a certain category, we want as many variables to be displayed this way. We have two variables: *Citizen* and *Employed* that are not percentages, but rather aggregate counts of a population. Therefore, we created percentage variables for these two attributes called *CitizenPercent* and *EmployedPercent*. \n",
    " \n",
    "We will further scale our dataset using the StandardScaler() SK Learn method when we do our train/test splitting in [*Section 2.2: Training/Test Split Method*](https://colab.research.google.com/drive/1fBFJCL0AUtZc_Zygo4NwYrBjoWFGUErf#scrollTo=ywYgds92SjOQ).\n",
    " \n",
    "Now we can use the .info() method to see our variable representations (int, float, object, etc.)."
   ]
  },
  {
   "cell_type": "code",
   "execution_count": 1,
   "metadata": {
    "colab": {},
    "colab_type": "code",
    "id": "C0JK66FIQ9Qq"
   },
   "outputs": [
    {
     "name": "stdout",
     "output_type": "stream",
     "text": [
      "<class 'pandas.core.frame.DataFrame'>\n",
      "RangeIndex: 74001 entries, 0 to 74000\n",
      "Data columns (total 41 columns):\n",
      " #   Column           Non-Null Count  Dtype   \n",
      "---  ------           --------------  -----   \n",
      " 0   CensusTract      74001 non-null  int64   \n",
      " 1   State            74001 non-null  object  \n",
      " 2   County           74001 non-null  object  \n",
      " 3   TotalPop         74001 non-null  int64   \n",
      " 4   Men              74001 non-null  int64   \n",
      " 5   Women            74001 non-null  int64   \n",
      " 6   Hispanic         73311 non-null  float64 \n",
      " 7   White            73311 non-null  float64 \n",
      " 8   Black            73311 non-null  float64 \n",
      " 9   Native           73311 non-null  float64 \n",
      " 10  Asian            73311 non-null  float64 \n",
      " 11  Pacific          73311 non-null  float64 \n",
      " 12  Citizen          74001 non-null  int64   \n",
      " 13  Income           72901 non-null  float64 \n",
      " 14  IncomeErr        72901 non-null  float64 \n",
      " 15  IncomePerCap     73261 non-null  float64 \n",
      " 16  CitizenPercent   73311 non-null  float64 \n",
      " 17  IncomePerCapErr  73261 non-null  float64 \n",
      " 18  Poverty          73166 non-null  float64 \n",
      " 19  ChildPoverty     72883 non-null  float64 \n",
      " 20  Professional     73194 non-null  float64 \n",
      " 21  Service          73194 non-null  float64 \n",
      " 22  Office           73194 non-null  float64 \n",
      " 23  Construction     73194 non-null  float64 \n",
      " 24  Production       73194 non-null  float64 \n",
      " 25  Drive            73204 non-null  float64 \n",
      " 26  Carpool          73204 non-null  float64 \n",
      " 27  Transit          73204 non-null  float64 \n",
      " 28  Walk             73204 non-null  float64 \n",
      " 29  OtherTransp      73204 non-null  float64 \n",
      " 30  WorkAtHome       73204 non-null  float64 \n",
      " 31  MeanCommute      73052 non-null  float64 \n",
      " 32  Employed         74001 non-null  int64   \n",
      " 33  PrivateWork      73194 non-null  float64 \n",
      " 34  PublicWork       73194 non-null  float64 \n",
      " 35  SelfEmployed     73194 non-null  float64 \n",
      " 36  EmployedPercent  73311 non-null  float64 \n",
      " 37  FamilyWork       73194 non-null  float64 \n",
      " 38  Unemployment     73199 non-null  float64 \n",
      " 39  CollarClass      74001 non-null  category\n",
      " 40  PovertyClass     73003 non-null  category\n",
      "dtypes: category(2), float64(31), int64(6), object(2)\n",
      "memory usage: 22.2+ MB\n"
     ]
    }
   ],
   "source": [
    "#Load Python Packages\n",
    "import pandas as pd\n",
    "import numpy as np\n",
    "\n",
    "#Envirornment Set Up Options\n",
    "pd.set_option('display.max_columns', 500)\n",
    "pd.options.display.float_format = '{:.2f}'.format\n",
    "\n",
    "#Load 2015 Census Data Set\n",
    "census2015 = \"https://raw.githubusercontent.com/megnn/SMUMSDS_ML1/master/acs2015_census_tract_data.csv\"\n",
    "data2015 = pd.read_csv(census2015)\n",
    "\n",
    "#Create class variable: Poverty Class\n",
    "PovertyClass = pd.cut(data2015.Poverty,bins=[0,data2015['Poverty'].quantile(.25),data2015['Poverty'].quantile(.50),data2015['Poverty'].quantile(.75),100],labels=\n",
    "[1,2,3,4])\n",
    "data2015.insert(37,'PovertyClass',PovertyClass)\n",
    "\n",
    "#Create class variable: Collar Class\n",
    "WhiteCollarPerc = ''\n",
    "BlueCollarPerc = ''\n",
    "CollarClass = ''\n",
    "data2015.insert(0,'BlueCollarPerc',BlueCollarPerc)\n",
    "data2015.insert(0,'WhiteCollarPerc',WhiteCollarPerc)\n",
    "data2015.insert(39,'CollarClass',CollarClass)\n",
    "data2015['WhiteCollarPerc'] = data2015['Office'] + data2015['Professional']\n",
    "data2015['BlueCollarPerc'] = data2015['Production'] + data2015['Construction'] + data2015['Service']\n",
    "data2015['CollarClass'] = np.where(data2015['WhiteCollarPerc'] >= data2015['BlueCollarPerc'], 0, 1)\n",
    "data2015['CollarClass'] = data2015['CollarClass'].astype('category')\n",
    "del data2015['WhiteCollarPerc']\n",
    "del data2015['BlueCollarPerc']\n",
    "\n",
    "#New feature creation: Citizen Percent\n",
    "CitizenPercent = ''\n",
    "data2015.insert(16, 'CitizenPercent', CitizenPercent)\n",
    "data2015['CitizenPercent'] = round((data2015['Citizen']/data2015['TotalPop'])*100,1)\n",
    "\n",
    "#New feature creation: Employed Percent\n",
    "EmployedPercent = ''\n",
    "data2015.insert(36, 'EmployedPercent', CitizenPercent)\n",
    "data2015['EmployedPercent'] = round((data2015['Employed']/data2015['TotalPop'])*100,1)\n",
    "\n",
    "data2015.info()"
   ]
  },
  {
   "cell_type": "markdown",
   "metadata": {
    "colab_type": "text",
    "id": "OZgZcx_pMVZe"
   },
   "source": [
    "Based on the data2015.info() we can confirm that our two tasks (both class variables) are being stored as dtype: category. This was expected as they are categorical variables.\n",
    "\n",
    "The next pre-processing method we use was to deal with N/A values. We can also see from running data2015.info() that for each attribute there are different counts of non-null values. Since for each attribute there are no more than 1,500 null values out of the 74,000 total rows it will not be a significant loss if we just remove these rows from our analysis. We will remove the rows containing null values in the code below: \n"
   ]
  },
  {
   "cell_type": "code",
   "execution_count": 2,
   "metadata": {
    "colab": {},
    "colab_type": "code",
    "id": "JCUwhZhtMVw6"
   },
   "outputs": [
    {
     "name": "stdout",
     "output_type": "stream",
     "text": [
      "<class 'pandas.core.frame.DataFrame'>\n",
      "Int64Index: 72671 entries, 0 to 74000\n",
      "Data columns (total 41 columns):\n",
      " #   Column           Non-Null Count  Dtype   \n",
      "---  ------           --------------  -----   \n",
      " 0   CensusTract      72671 non-null  int64   \n",
      " 1   State            72671 non-null  object  \n",
      " 2   County           72671 non-null  object  \n",
      " 3   TotalPop         72671 non-null  int64   \n",
      " 4   Men              72671 non-null  int64   \n",
      " 5   Women            72671 non-null  int64   \n",
      " 6   Hispanic         72671 non-null  float64 \n",
      " 7   White            72671 non-null  float64 \n",
      " 8   Black            72671 non-null  float64 \n",
      " 9   Native           72671 non-null  float64 \n",
      " 10  Asian            72671 non-null  float64 \n",
      " 11  Pacific          72671 non-null  float64 \n",
      " 12  Citizen          72671 non-null  int64   \n",
      " 13  Income           72671 non-null  float64 \n",
      " 14  IncomeErr        72671 non-null  float64 \n",
      " 15  IncomePerCap     72671 non-null  float64 \n",
      " 16  CitizenPercent   72671 non-null  float64 \n",
      " 17  IncomePerCapErr  72671 non-null  float64 \n",
      " 18  Poverty          72671 non-null  float64 \n",
      " 19  ChildPoverty     72671 non-null  float64 \n",
      " 20  Professional     72671 non-null  float64 \n",
      " 21  Service          72671 non-null  float64 \n",
      " 22  Office           72671 non-null  float64 \n",
      " 23  Construction     72671 non-null  float64 \n",
      " 24  Production       72671 non-null  float64 \n",
      " 25  Drive            72671 non-null  float64 \n",
      " 26  Carpool          72671 non-null  float64 \n",
      " 27  Transit          72671 non-null  float64 \n",
      " 28  Walk             72671 non-null  float64 \n",
      " 29  OtherTransp      72671 non-null  float64 \n",
      " 30  WorkAtHome       72671 non-null  float64 \n",
      " 31  MeanCommute      72671 non-null  float64 \n",
      " 32  Employed         72671 non-null  int64   \n",
      " 33  PrivateWork      72671 non-null  float64 \n",
      " 34  PublicWork       72671 non-null  float64 \n",
      " 35  SelfEmployed     72671 non-null  float64 \n",
      " 36  EmployedPercent  72671 non-null  float64 \n",
      " 37  FamilyWork       72671 non-null  float64 \n",
      " 38  Unemployment     72671 non-null  float64 \n",
      " 39  CollarClass      72671 non-null  category\n",
      " 40  PovertyClass     72671 non-null  category\n",
      "dtypes: category(2), float64(31), int64(6), object(2)\n",
      "memory usage: 22.3+ MB\n"
     ]
    }
   ],
   "source": [
    "#NA remove and check\n",
    "data2015original = data2015.copy()\n",
    "data2015 = data2015.dropna()\n",
    "data2015.isnull().sum()\n",
    "\n",
    "data2015.info()"
   ]
  },
  {
   "cell_type": "markdown",
   "metadata": {
    "colab_type": "text",
    "id": "KbItdVOcNNCw"
   },
   "source": [
    "Now we have a data set with 72,671 total rows and zero null values.\n",
    " \n",
    "Another pre-processing step we took was to evaluate whether our tasks variables were balanced or imbalanced. \n",
    "\n",
    "As can be seen in the first chart our *Poverty Class* task is from a balanced data set, which is good for our classification objectives.\n",
    "\n",
    "However, we do not have the same balance when working with our *Collar Class* task. We cannot always expect data to be balanced with real world classifications. We have such a class imbalance in task that we also want to call attention to and be aware of false positives and false negatives."
   ]
  },
  {
   "cell_type": "code",
   "execution_count": 3,
   "metadata": {
    "colab": {},
    "colab_type": "code",
    "id": "e8UJ9-73NNgp"
   },
   "outputs": [
    {
     "data": {
      "image/png": "[encoded data removed]",
      "text/plain": [
       "<Figure size 432x288 with 1 Axes>"
      ]
     },
     "metadata": {},
     "output_type": "display_data"
    }
   ],
   "source": [
    "%matplotlib inline\n",
    "import seaborn as sns\n",
    "import matplotlib.pyplot as plt\n",
    "povertyClass_count = data2015['PovertyClass'].value_counts()\n",
    "sns.set(style=\"darkgrid\")\n",
    "sns.barplot(povertyClass_count.index, povertyClass_count.values)\n",
    "plt.title('Frequency Distribution of Poverty Class')\n",
    "plt.ylabel('Number of Occurrences', fontsize=8)\n",
    "plt.xlabel('Poverty Class', fontsize=8)\n",
    "plt.show()"
   ]
  },
  {
   "cell_type": "code",
   "execution_count": 4,
   "metadata": {
    "colab": {},
    "colab_type": "code",
    "id": "eGNuzwT2nF4z"
   },
   "outputs": [
    {
     "data": {
      "image/png": "[encoded data removed]",
      "text/plain": [
       "<Figure size 432x288 with 1 Axes>"
      ]
     },
     "metadata": {},
     "output_type": "display_data"
    }
   ],
   "source": [
    "%matplotlib inline\n",
    "import seaborn as sns\n",
    "import matplotlib.pyplot as plt\n",
    "collarClass_count = data2015['CollarClass'].value_counts()\n",
    "sns.set(style=\"darkgrid\")\n",
    "sns.barplot(collarClass_count.index, collarClass_count.values)\n",
    "plt.title('Frequency Distribution of Collar Class')\n",
    "plt.ylabel('Number of Occurrences', fontsize=8)\n",
    "plt.xlabel('Collar Class', fontsize=8)\n",
    "plt.show()"
   ]
  },
  {
   "cell_type": "markdown",
   "metadata": {
    "colab_type": "text",
    "id": "5eGfwzsbNnjt"
   },
   "source": [
    "The last pre-processing step we took was to remove variables that are not needed/useful for analysis. \n",
    "\n",
    "We removed *Poverty* because it is the continuous version of our class variable, *Poverty Class*. We created percentage variables for *Citizen* and *Employed*, therefore we can remove the aggregate numerical versions. We also removed *TotalPop, Men,* and *Women* because they are also aggregate counts of the total population of that variable in the geographical line item. They were also deemed not useful for analysis by our EDA in Lab 1. We want all of our population counts to be percentages so they are on the same scale for each geographical area. This makes sure that the population size of the geographical area does not skew the model. \n",
    "\n",
    "There are four income variables in our data set: *Income, IncomeErr, IncomePerCap* and *IncomePerCapErr*. These are all highly correlated variables to each other and depict the same information in different ways. Therefore, since we do not want duplicate data we only want to use one for our model. Therefore, we took out *IncomeErr, IncomePerCap* and *IncomePerCapErr*, leaving just *Income* in our data set for model building. The *Income* variable depicts the median household income in USD for that geographical line item. \n",
    "\n",
    "We removed any geographically identifying variables from our data set so that our models would not train on location. This allows our model to be potentially run on any geographical area regardless of size and location to predict the *Poverty Class* in that area. The specific geographically identifying variables we removed are *CensusTract, County,* and *State*. "
   ]
  },
  {
   "cell_type": "code",
   "execution_count": 5,
   "metadata": {
    "colab": {},
    "colab_type": "code",
    "id": "89YJ_y1VNntj"
   },
   "outputs": [],
   "source": [
    "#Remove variables that are not needed/useful for analysis.\n",
    "#Remove aggregate numerical population count variables\n",
    "del data2015['Poverty']\n",
    "del data2015['TotalPop']\n",
    "del data2015['Citizen']\n",
    "del data2015['Men']\n",
    "del data2015['Women']\n",
    "del data2015['Employed']\n",
    "\n",
    "#Remove income varaibles since we are using just Income\n",
    "del data2015['IncomeErr']\n",
    "del data2015['IncomePerCap']\n",
    "del data2015['IncomePerCapErr']\n",
    "\n",
    "#Remove geographically identifying varaibles\n",
    "del data2015['State']\n",
    "del data2015['County']\n",
    "del data2015['CensusTract']"
   ]
  },
  {
   "cell_type": "markdown",
   "metadata": {
    "colab_type": "text",
    "id": "TAIWTVpGSLOn"
   },
   "source": [
    "In addition, we removed the employment classification variables that make up our second task: *Collar Class*. These consist of the variables: *Professional, Office, Construction, Production, and Service*. These variables would considered repetitive data, now that we have the *Collar Class* variable."
   ]
  },
  {
   "cell_type": "code",
   "execution_count": 6,
   "metadata": {
    "colab": {},
    "colab_type": "code",
    "id": "gml7mTq8t94_"
   },
   "outputs": [],
   "source": [
    "census_pc = data2015.copy()\n",
    "del census_pc['CollarClass']\n",
    "\n",
    "census_cc = data2015.copy()\n",
    "del census_cc['PovertyClass']\n",
    "del census_cc['Professional']\n",
    "del census_cc['Service']\n",
    "del census_cc['Office']\n",
    "del census_cc['Construction']\n",
    "del census_cc['Production']"
   ]
  },
  {
   "cell_type": "markdown",
   "metadata": {
    "colab_type": "text",
    "id": "D-CRPblFRULo"
   },
   "source": [
    "### **1.2 Data Preparation Part 2: Final Data Set For Classification/Regression**\n",
    "\n",
    "Now we have two final data sets *census_pc* and *census_cc* that will be used for classification/regression of our two tasks *Poverty Class* and *Collar Class* respectively. Below is a description of our newly created variables:\n",
    "\n",
    "    Newly created variables:\n",
    "      PovertyClass - Depicts the poverty category (Low, Below Average, Above Average, High) of the geographical line item. [census_pc]\n",
    "      CollarClass - Depicts the binary representation of white and blue collar job functions (White Collar, Blue Collar). [census_cc]\n",
    "      CitizenPercent - Depicts the percentage (0 - 100%) of U.S. citizens in that geographical line item. [census_pc, census_cc]\n",
    "      EmployedPercent - Depicts the percentage (0 - 100%) of employed persons in that geographical line item. [census_pc, census_cc]\n",
    "\n",
    "We can also see the variable representations of our final data set. Every variable is a float except for our two task variables variables; *PovertyClass* and *Collar Class* which are category variables. \n",
    "\n",
    "Now that we have our final data sets, we can move on to [*Section 2: Modeling and Evaluation*](https://colab.research.google.com/drive/1fBFJCL0AUtZc_Zygo4NwYrBjoWFGUErf#scrollTo=5fVFEAYQRx0O)."
   ]
  },
  {
   "cell_type": "code",
   "execution_count": 7,
   "metadata": {
    "colab": {},
    "colab_type": "code",
    "id": "sG8HstCgRw-U"
   },
   "outputs": [
    {
     "name": "stdout",
     "output_type": "stream",
     "text": [
      "<class 'pandas.core.frame.DataFrame'>\n",
      "Int64Index: 72671 entries, 0 to 74000\n",
      "Data columns (total 28 columns):\n",
      " #   Column           Non-Null Count  Dtype   \n",
      "---  ------           --------------  -----   \n",
      " 0   Hispanic         72671 non-null  float64 \n",
      " 1   White            72671 non-null  float64 \n",
      " 2   Black            72671 non-null  float64 \n",
      " 3   Native           72671 non-null  float64 \n",
      " 4   Asian            72671 non-null  float64 \n",
      " 5   Pacific          72671 non-null  float64 \n",
      " 6   Income           72671 non-null  float64 \n",
      " 7   CitizenPercent   72671 non-null  float64 \n",
      " 8   ChildPoverty     72671 non-null  float64 \n",
      " 9   Professional     72671 non-null  float64 \n",
      " 10  Service          72671 non-null  float64 \n",
      " 11  Office           72671 non-null  float64 \n",
      " 12  Construction     72671 non-null  float64 \n",
      " 13  Production       72671 non-null  float64 \n",
      " 14  Drive            72671 non-null  float64 \n",
      " 15  Carpool          72671 non-null  float64 \n",
      " 16  Transit          72671 non-null  float64 \n",
      " 17  Walk             72671 non-null  float64 \n",
      " 18  OtherTransp      72671 non-null  float64 \n",
      " 19  WorkAtHome       72671 non-null  float64 \n",
      " 20  MeanCommute      72671 non-null  float64 \n",
      " 21  PrivateWork      72671 non-null  float64 \n",
      " 22  PublicWork       72671 non-null  float64 \n",
      " 23  SelfEmployed     72671 non-null  float64 \n",
      " 24  EmployedPercent  72671 non-null  float64 \n",
      " 25  FamilyWork       72671 non-null  float64 \n",
      " 26  Unemployment     72671 non-null  float64 \n",
      " 27  PovertyClass     72671 non-null  category\n",
      "dtypes: category(1), float64(27)\n",
      "memory usage: 15.6 MB\n"
     ]
    }
   ],
   "source": [
    "census_pc.info()"
   ]
  },
  {
   "cell_type": "code",
   "execution_count": 8,
   "metadata": {
    "colab": {},
    "colab_type": "code",
    "id": "Zld4-tUNuN4U"
   },
   "outputs": [
    {
     "name": "stdout",
     "output_type": "stream",
     "text": [
      "<class 'pandas.core.frame.DataFrame'>\n",
      "Int64Index: 72671 entries, 0 to 74000\n",
      "Data columns (total 23 columns):\n",
      " #   Column           Non-Null Count  Dtype   \n",
      "---  ------           --------------  -----   \n",
      " 0   Hispanic         72671 non-null  float64 \n",
      " 1   White            72671 non-null  float64 \n",
      " 2   Black            72671 non-null  float64 \n",
      " 3   Native           72671 non-null  float64 \n",
      " 4   Asian            72671 non-null  float64 \n",
      " 5   Pacific          72671 non-null  float64 \n",
      " 6   Income           72671 non-null  float64 \n",
      " 7   CitizenPercent   72671 non-null  float64 \n",
      " 8   ChildPoverty     72671 non-null  float64 \n",
      " 9   Drive            72671 non-null  float64 \n",
      " 10  Carpool          72671 non-null  float64 \n",
      " 11  Transit          72671 non-null  float64 \n",
      " 12  Walk             72671 non-null  float64 \n",
      " 13  OtherTransp      72671 non-null  float64 \n",
      " 14  WorkAtHome       72671 non-null  float64 \n",
      " 15  MeanCommute      72671 non-null  float64 \n",
      " 16  PrivateWork      72671 non-null  float64 \n",
      " 17  PublicWork       72671 non-null  float64 \n",
      " 18  SelfEmployed     72671 non-null  float64 \n",
      " 19  EmployedPercent  72671 non-null  float64 \n",
      " 20  FamilyWork       72671 non-null  float64 \n",
      " 21  Unemployment     72671 non-null  float64 \n",
      " 22  CollarClass      72671 non-null  category\n",
      "dtypes: category(1), float64(22)\n",
      "memory usage: 12.8 MB\n"
     ]
    }
   ],
   "source": [
    "census_cc.info()"
   ]
  },
  {
   "cell_type": "markdown",
   "metadata": {
    "colab_type": "text",
    "id": "5fVFEAYQRx0O"
   },
   "source": [
    "##**2. Modeling and Evaluation**"
   ]
  },
  {
   "cell_type": "markdown",
   "metadata": {
    "colab_type": "text",
    "id": "dXH84e3lSZ1E"
   },
   "source": [
    "### **2.1 Modeling and Evaluation 1: Evaluation Metrics**"
   ]
  },
  {
   "cell_type": "markdown",
   "metadata": {
    "colab_type": "text",
    "id": "Qen1gITMhYLF"
   },
   "source": [
    "For our *Poverty Class* task we will be leveraging accuracy as our primary evaluation metric. This is the most appropriate for analyzing the results of the *Poverty Class* task models because we have a balanced dataset when it comes to the classes of this variable. Also, we are trying to correctly classify geographical areas of extreme poverty in the United States and accuracy would be the most important outcome for this classification task. Focusing on achieving the highest accuracy would allow our model to be used in a multitude of ways such as the allocation of government social relief funds, private/public investment, school funding, etc. We will discuss the specific use cases of our models in [*Section 3: Deployment*](https://colab.research.google.com/drive/1fBFJCL0AUtZc_Zygo4NwYrBjoWFGUErf#scrollTo=z39eg-L9SD5l).\n",
    "\n",
    "For our *Collar Class* task we will be leveraging multiple evaluation metrics since we are dealing with an imbalanced dataset. The classification of *white collar* will occur more frequently, therefore we would want to test high precision (low false positives). Since the *blue collar* outcome will occur less frequently we will need to test high recall (low false negatives). Overall we will want our task to be modeled with high accuracy, for the same reasons as listed above. \n",
    "  - High precision\n",
    "  - High recall\n",
    "  - High accuracy"
   ]
  },
  {
   "cell_type": "markdown",
   "metadata": {
    "colab_type": "text",
    "id": "ywYgds92SjOQ"
   },
   "source": [
    "### **2.2 Modeling and Evaluation 2: Training/Test Split Method**\n",
    "\n",
    "We have chosen to use a 10 fold stratified model as our method for validation. The 10 fold stratified cross-validation procedure is a slight deviation from the k-fold cross validation procedure, in that it creates folds while maintaining the percentage of samples for each class. This allows us to have all the benefits of a 10 fold cross-validation without the model accuracy issues we would come across with an unbalanced dataset(e.g. *Collar Class* cross-validation). With a 10 fold stratified model we will be creating 9 folds to train our model and the 10th fold will be used as our test set. This process will be repeated and each of the folds will have the opportunity to be used as the test set. The complete 10 models are fit and evaluated while the performance of the model is calculated as the mean of the total runs."
   ]
  },
  {
   "cell_type": "code",
   "execution_count": 10,
   "metadata": {
    "colab": {},
    "colab_type": "code",
    "id": "bnki0wq2pcOQ"
   },
   "outputs": [
    {
     "name": "stdout",
     "output_type": "stream",
     "text": [
      "StratifiedKFold(n_splits=3, random_state=13, shuffle=True)\n",
      "StratifiedKFold(n_splits=10, random_state=13, shuffle=True)\n"
     ]
    }
   ],
   "source": [
    "from sklearn.model_selection import ShuffleSplit\n",
    "from sklearn.model_selection import StratifiedKFold\n",
    "import numpy as np\n",
    "\n",
    "if 'PovertyClass' in census_pc:\n",
    "    y_pc = census_pc['PovertyClass'].values # get the labels we want\n",
    "    del census_pc['PovertyClass'] # get rid of the class label\n",
    "    X_pc = census_pc.values # use everything else to predict! \n",
    "    \n",
    "if 'CollarClass' in census_cc:\n",
    "    y_cc = census_cc['CollarClass'].values # get the labels we want\n",
    "    del census_cc['CollarClass'] # get rid of the class label\n",
    "    X_cc = census_cc.values # use everything else to predict!  \n",
    "    \n",
    "num_cv_iterations = 10\n",
    "num_instances = len(y_cc)\n",
    "cv_object_GS = StratifiedKFold(n_splits=3,shuffle=True,random_state=13)\n",
    "cv_object = StratifiedKFold(n_splits = num_cv_iterations, shuffle = True, random_state = 13)\n",
    "print(cv_object_GS)\n",
    "print(cv_object)"
   ]
  },
  {
   "cell_type": "code",
   "execution_count": 11,
   "metadata": {
    "colab": {},
    "colab_type": "code",
    "id": "RddkG2qmSszE"
   },
   "outputs": [],
   "source": [
    "from sklearn.preprocessing import StandardScaler\n",
    "# Scale the data\n",
    "ss = StandardScaler()\n",
    "X_pc = ss.fit_transform(X_pc)\n",
    "X_cc = ss.fit_transform(X_cc)"
   ]
  },
  {
   "cell_type": "markdown",
   "metadata": {
    "colab_type": "text",
    "id": "VTqtLsFBStp3"
   },
   "source": [
    "### **2.3 Modeling and Evaluation 3: Creation of 3 Different Models**"
   ]
  },
  {
   "cell_type": "code",
   "execution_count": 67,
   "metadata": {
    "colab": {},
    "colab_type": "code",
    "id": "DhslMOmJg8Jn"
   },
   "outputs": [],
   "source": [
    "import numpy as np\n",
    "import matplotlib.pyplot as plt\n",
    "import seaborn as sns\n",
    "\n",
    "def FitAndPredictMulti(classifierEstimator, X, y, cv, modelType):\n",
    "    from sklearn.model_selection import cross_val_predict\n",
    "    from sklearn.metrics import confusion_matrix\n",
    "    from sklearn import metrics as mt\n",
    "    \n",
    "    y_hat = cross_val_predict(classifierEstimator, X, y, cv=cv)\n",
    "    acc = mt.accuracy_score(y,y_hat)\n",
    "    \n",
    "    print(\"Model Performance:\")\n",
    "    print(\"*******************************************************************************************************************\")\n",
    "    print(\"The accuracy of this\",num_cv_iterations,\"- fold, stratified cross validation\",modelType,\"model is:\",round((acc*100),2),\"%\")\n",
    "    print(\"\")\n",
    "    print(\"The confusion matrix for this\",num_cv_iterations,\"- fold, stratified cross validation\",modelType,\"model can be seen below.\")\n",
    "    print(\"\")\n",
    "    cm = confusion_matrix(y, y_hat)   \n",
    "    plt.figure(figsize=(16,10))\n",
    "    sns.heatmap(cm, annot=True, fmt='g',cmap = 'Blues',xticklabels=['Low','Below-Average','Above Average','High'], yticklabels=['Low','Below-Average','Above-Average','High']); \n",
    "    plt.ylabel(\"Predicted\")\n",
    "    plt.xlabel(\"Actual\")\n",
    "    print(\"Model Run Time: \")\n",
    "\n",
    "roc_array = []\n",
    "def FitAndPredictBinary(classifierEstimator, X, y, cv, modelType):\n",
    "    from sklearn.model_selection import cross_val_predict\n",
    "    from sklearn.metrics import roc_curve, roc_auc_score\n",
    "    from sklearn.metrics import confusion_matrix\n",
    "    from sklearn import metrics as mt\n",
    "    \n",
    "    y_hat = cross_val_predict(classifierEstimator, X, y, cv=cv)\n",
    "    acc = mt.accuracy_score(y,y_hat)\n",
    "    pre = mt.precision_score(y,y_hat)\n",
    "    rec = mt.recall_score(y,y_hat)\n",
    "    \n",
    "    print(\"Model Performance:\")\n",
    "    print(\"*******************************************************************************************************************\")\n",
    "    print(\"The accuracy of this\",num_cv_iterations,\"- fold, stratified cross validation\",modelType,\"model is:\",round((acc*100),2),\"%\")\n",
    "    print(\"The precision of this\",num_cv_iterations,\"- fold, stratified cross validation\",modelType,\"model is:\",round((pre*100),2),\"%\")\n",
    "    print(\"The recall of this\",num_cv_iterations,\"- fold, stratified cross validation\",modelType,\"model is:\",round((rec*100),2),\"%\")\n",
    "    print(\"\")\n",
    "    print(\"The confusion matrix for this\",num_cv_iterations,\"- fold, stratified cross validation\",modelType,\"model can be seen below.\")\n",
    "    print(\"\")\n",
    "    cm = confusion_matrix(y, y_hat)\n",
    "    plt.figure(figsize=(16,10))\n",
    "    sns.heatmap(cm, annot=True, fmt='g',cmap = 'Blues',xticklabels=['White Collar','Blue Collar'], yticklabels=['White Collar','Blue Collar']); \n",
    "    plt.ylabel(\"Predicted\")\n",
    "    plt.xlabel(\"Actual\")\n",
    "    \n",
    "    #print(\"ROC Curve Output:\")\n",
    "    #model = classifierEstimator.fit(X, y)\n",
    "    #yproba = classifierEstimator.predict_proba(X)[::,1]\n",
    "    #fpr, tpr, _ = roc_curve(y,  yproba)\n",
    "    #auc = roc_auc_score(y, yproba)\n",
    "    #roc_array = [fpr, tpr, auc, modelType]\n",
    "    \n",
    "    print(\"Model Run Time: \")"
   ]
  },
  {
   "cell_type": "markdown",
   "metadata": {
    "colab_type": "text",
    "id": "CLxYFOHDUYFS"
   },
   "source": [
    "#### **2.3.1 Model 1 - KNN**"
   ]
  },
  {
   "cell_type": "markdown",
   "metadata": {
    "colab_type": "text",
    "id": "UkQkAEu6pT55"
   },
   "source": [
    "##### **2.3.1.1 KNN To Classify Poverty Class**"
   ]
  },
  {
   "cell_type": "code",
   "execution_count": 73,
   "metadata": {
    "colab": {},
    "colab_type": "code",
    "id": "0fpIgVVzsM_p"
   },
   "outputs": [
    {
     "name": "stdout",
     "output_type": "stream",
     "text": [
      "Fitting 3 folds for each of 180 candidates, totalling 540 fits\n"
     ]
    },
    {
     "name": "stderr",
     "output_type": "stream",
     "text": [
      "[Parallel(n_jobs=10)]: Using backend LokyBackend with 10 concurrent workers.\n",
      "[Parallel(n_jobs=10)]: Done  30 tasks      | elapsed: 17.1min\n",
      "/Users/reagan/opt/anaconda3/envs/MachineLearningI/lib/python3.7/site-packages/joblib/externals/loky/process_executor.py:706: UserWarning: A worker stopped while some jobs were given to the executor. This can be caused by a too short worker timeout or by a memory leak.\n",
      "  \"timeout or by a memory leak.\", UserWarning\n",
      "[Parallel(n_jobs=10)]: Done 180 tasks      | elapsed: 98.1min\n",
      "[Parallel(n_jobs=10)]: Done 430 tasks      | elapsed: 550.5min\n",
      "[Parallel(n_jobs=10)]: Done 540 out of 540 | elapsed: 572.4min finished\n"
     ]
    },
    {
     "name": "stdout",
     "output_type": "stream",
     "text": [
      "CPU times: user 10.4 s, sys: 3.4 s, total: 13.8 s\n",
      "Wall time: 9h 32min 29s\n"
     ]
    },
    {
     "data": {
      "text/plain": [
       "GridSearchCV(cv=StratifiedKFold(n_splits=3, random_state=13, shuffle=True),\n",
       "             error_score=nan,\n",
       "             estimator=KNeighborsClassifier(algorithm='auto', leaf_size=30,\n",
       "                                            metric='minkowski',\n",
       "                                            metric_params=None, n_jobs=None,\n",
       "                                            n_neighbors=5, p=2,\n",
       "                                            weights='uniform'),\n",
       "             iid='deprecated', n_jobs=10,\n",
       "             param_grid={'algorithm': ['ball_tree', 'kd_tree', 'brute'],\n",
       "                         'leaf_size': [5, 10, 20, 40, 80],\n",
       "                         'n_neighbors': [3, 9, 27, 261, 269, 275],\n",
       "                         'weights': ['uniform', 'distance']},\n",
       "             pre_dispatch='2*n_jobs', refit=True, return_train_score=False,\n",
       "             scoring='accuracy', verbose=1)"
      ]
     },
     "execution_count": 73,
     "metadata": {},
     "output_type": "execute_result"
    }
   ],
   "source": [
    "%%time\n",
    "from sklearn.model_selection import GridSearchCV\n",
    "from sklearn.neighbors import KNeighborsClassifier\n",
    "KNN_pcEstimator = KNeighborsClassifier()\n",
    "\n",
    "KNN_pcparameters = { 'n_neighbors':[3, 9, 27, 261, 269, 275]\n",
    "                  ,'weights': ['uniform', 'distance']\n",
    "                  ,'algorithm': ['ball_tree', 'kd_tree', 'brute']\n",
    "                  ,'leaf_size': [5, 10, 20, 40, 80]\n",
    "                }\n",
    "\n",
    "KNN_pcGridSearch = GridSearchCV(estimator=KNN_pcEstimator\n",
    "                   , n_jobs=10 # jobs to run in parallel\n",
    "                   , verbose=1 # low verbosity\n",
    "                   , param_grid=KNN_pcparameters\n",
    "                   , cv=cv_object_GS # KFolds = 3\n",
    "                   , scoring='accuracy')\n",
    "\n",
    "KNN_pcGridSearch.fit(X_pc,y_pc)"
   ]
  },
  {
   "cell_type": "code",
   "execution_count": 74,
   "metadata": {
    "colab": {},
    "colab_type": "code",
    "id": "Qu6QDxetyPqu",
    "scrolled": true
   },
   "outputs": [
    {
     "data": {
      "text/plain": [
       "KNeighborsClassifier(algorithm='ball_tree', leaf_size=5, metric='minkowski',\n",
       "                     metric_params=None, n_jobs=None, n_neighbors=27, p=2,\n",
       "                     weights='distance')"
      ]
     },
     "execution_count": 74,
     "metadata": {},
     "output_type": "execute_result"
    }
   ],
   "source": [
    "KNN_pcGridSearch.best_estimator_"
   ]
  },
  {
   "cell_type": "code",
   "execution_count": 75,
   "metadata": {
    "colab": {},
    "colab_type": "code",
    "id": "CPE0G6dLJi7Z"
   },
   "outputs": [
    {
     "name": "stdout",
     "output_type": "stream",
     "text": [
      "Model Performance:\n",
      "*******************************************************************************************************************\n",
      "The accuracy of this 10 - fold, stratified cross validation KNN model is: 71.35 %\n",
      "\n",
      "The confusion matrix for this 10 - fold, stratified cross validation KNN model can be seen below.\n",
      "\n",
      "Model Run Time: \n",
      "CPU times: user 6min 50s, sys: 1.66 s, total: 6min 51s\n",
      "Wall time: 6min 51s\n"
     ]
    },
    {
     "data": {
      "image/png": "[encoded data removed]",
      "text/plain": [
       "<Figure size 1152x720 with 2 Axes>"
      ]
     },
     "metadata": {},
     "output_type": "display_data"
    }
   ],
   "source": [
    "%%time\n",
    "modelType = 'KNN'\n",
    "KNN_pcBestParameters = KNN_pcGridSearch.best_estimator_\n",
    "FitAndPredictMulti(KNN_pcBestParameters, X_pc, y_pc, cv_object, modelType)"
   ]
  },
  {
   "cell_type": "markdown",
   "metadata": {
    "colab_type": "text",
    "id": "rh1BBWJRplba"
   },
   "source": [
    "##### **2.3.1.2 KNN To Classify Collar Class**"
   ]
  },
  {
   "cell_type": "code",
   "execution_count": 76,
   "metadata": {
    "colab": {},
    "colab_type": "code",
    "id": "JmTtOV6Dv6zB"
   },
   "outputs": [
    {
     "name": "stdout",
     "output_type": "stream",
     "text": [
      "Fitting 3 folds for each of 180 candidates, totalling 540 fits\n"
     ]
    },
    {
     "name": "stderr",
     "output_type": "stream",
     "text": [
      "[Parallel(n_jobs=10)]: Using backend LokyBackend with 10 concurrent workers.\n",
      "[Parallel(n_jobs=10)]: Done  30 tasks      | elapsed: 14.8min\n",
      "[Parallel(n_jobs=10)]: Done 180 tasks      | elapsed: 83.5min\n",
      "[Parallel(n_jobs=10)]: Done 430 tasks      | elapsed: 170.7min\n",
      "[Parallel(n_jobs=10)]: Done 540 out of 540 | elapsed: 195.4min finished\n"
     ]
    },
    {
     "name": "stdout",
     "output_type": "stream",
     "text": [
      "CPU times: user 9.61 s, sys: 3.84 s, total: 13.5 s\n",
      "Wall time: 3h 15min 33s\n"
     ]
    },
    {
     "data": {
      "text/plain": [
       "GridSearchCV(cv=StratifiedKFold(n_splits=3, random_state=13, shuffle=True),\n",
       "             error_score=nan,\n",
       "             estimator=KNeighborsClassifier(algorithm='auto', leaf_size=30,\n",
       "                                            metric='minkowski',\n",
       "                                            metric_params=None, n_jobs=None,\n",
       "                                            n_neighbors=5, p=2,\n",
       "                                            weights='uniform'),\n",
       "             iid='deprecated', n_jobs=10,\n",
       "             param_grid={'algorithm': ['ball_tree', 'kd_tree', 'brute'],\n",
       "                         'leaf_size': [5, 10, 20, 40, 80],\n",
       "                         'n_neighbors': [3, 9, 27, 261, 269, 275],\n",
       "                         'weights': ['uniform', 'distance']},\n",
       "             pre_dispatch='2*n_jobs', refit=True, return_train_score=False,\n",
       "             scoring='accuracy', verbose=1)"
      ]
     },
     "execution_count": 76,
     "metadata": {},
     "output_type": "execute_result"
    }
   ],
   "source": [
    "%%time\n",
    "from sklearn.model_selection import GridSearchCV\n",
    "from sklearn.neighbors import KNeighborsClassifier\n",
    "KNN_ccEstimator = KNeighborsClassifier()\n",
    "\n",
    "KNN_ccparameters = { 'n_neighbors':[3, 9, 27, 261, 269, 275]\n",
    "                  ,'weights': ['uniform', 'distance']\n",
    "                  ,'algorithm': ['ball_tree', 'kd_tree', 'brute']\n",
    "                  ,'leaf_size': [5, 10, 20, 40, 80]\n",
    "                }\n",
    "\n",
    "KNN_ccGridSearch = GridSearchCV(estimator=KNN_ccEstimator\n",
    "                   , n_jobs=10 # jobs to run in parallel\n",
    "                   , verbose=1 # low verbosity\n",
    "                   , param_grid=KNN_ccparameters\n",
    "                   , cv=cv_object_GS # KFolds = 3\n",
    "                   , scoring='accuracy')\n",
    "\n",
    "KNN_ccGridSearch.fit(X_cc,y_cc)"
   ]
  },
  {
   "cell_type": "code",
   "execution_count": 77,
   "metadata": {
    "colab": {},
    "colab_type": "code",
    "id": "aGZMSVfLv6_i"
   },
   "outputs": [
    {
     "data": {
      "text/plain": [
       "KNeighborsClassifier(algorithm='ball_tree', leaf_size=5, metric='minkowski',\n",
       "                     metric_params=None, n_jobs=None, n_neighbors=27, p=2,\n",
       "                     weights='distance')"
      ]
     },
     "execution_count": 77,
     "metadata": {},
     "output_type": "execute_result"
    }
   ],
   "source": [
    "KNN_ccGridSearch.best_estimator_"
   ]
  },
  {
   "cell_type": "code",
   "execution_count": 78,
   "metadata": {
    "colab": {},
    "colab_type": "code",
    "id": "9Okerzouv7Mb"
   },
   "outputs": [
    {
     "name": "stdout",
     "output_type": "stream",
     "text": [
      "Model Performance:\n",
      "*******************************************************************************************************************\n",
      "The accuracy of this 10 - fold, stratified cross validation KNN model is: 82.66 %\n",
      "The precision of this 10 - fold, stratified cross validation KNN model is: 74.29 %\n",
      "The recall of this 10 - fold, stratified cross validation KNN model is: 62.77 %\n",
      "\n",
      "The confusion matrix for this 10 - fold, stratified cross validation KNN model can be seen below.\n",
      "\n",
      "Model Run Time: \n",
      "CPU times: user 5min 39s, sys: 1.53 s, total: 5min 40s\n",
      "Wall time: 5min 40s\n"
     ]
    },
    {
     "data": {
      "image/png": "[encoded data removed]",
      "text/plain": [
       "<Figure size 1152x720 with 2 Axes>"
      ]
     },
     "metadata": {},
     "output_type": "display_data"
    }
   ],
   "source": [
    "%%time\n",
    "modelType = 'KNN'\n",
    "KNN_ccBestParameters = KNN_ccGridSearch.best_estimator_\n",
    "FitAndPredictBinary(KNN_ccBestParameters, X_cc, y_cc, cv_object, modelType)"
   ]
  },
  {
   "cell_type": "markdown",
   "metadata": {
    "colab_type": "text",
    "id": "ZE8Q5_W_VI-Z"
   },
   "source": [
    "#### **2.3.2 Model 2 - Random Forest**"
   ]
  },
  {
   "cell_type": "markdown",
   "metadata": {
    "colab_type": "text",
    "id": "jIUMy1XvptZR"
   },
   "source": [
    "##### **2.3.2.1 Random Forest To Classify Poverty Class**"
   ]
  },
  {
   "cell_type": "code",
   "execution_count": 19,
   "metadata": {
    "colab": {},
    "colab_type": "code",
    "id": "rd3d4depyMIW"
   },
   "outputs": [
    {
     "name": "stdout",
     "output_type": "stream",
     "text": [
      "Fitting 3 folds for each of 1000 candidates, totalling 3000 fits\n"
     ]
    },
    {
     "name": "stderr",
     "output_type": "stream",
     "text": [
      "[Parallel(n_jobs=8)]: Using backend LokyBackend with 8 concurrent workers.\n",
      "[Parallel(n_jobs=8)]: Done  52 tasks      | elapsed:    1.3s\n",
      "[Parallel(n_jobs=8)]: Done 342 tasks      | elapsed:  4.1min\n",
      "[Parallel(n_jobs=8)]: Done 594 tasks      | elapsed: 20.3min\n",
      "[Parallel(n_jobs=8)]: Done 944 tasks      | elapsed: 48.2min\n",
      "[Parallel(n_jobs=8)]: Done 1394 tasks      | elapsed: 85.8min\n",
      "[Parallel(n_jobs=8)]: Done 1944 tasks      | elapsed: 106.2min\n",
      "[Parallel(n_jobs=8)]: Done 2594 tasks      | elapsed: 158.6min\n",
      "[Parallel(n_jobs=8)]: Done 3000 out of 3000 | elapsed: 190.0min finished\n"
     ]
    },
    {
     "name": "stdout",
     "output_type": "stream",
     "text": [
      "CPU times: user 1min 43s, sys: 1.67 s, total: 1min 45s\n",
      "Wall time: 3h 11min 36s\n"
     ]
    },
    {
     "data": {
      "text/plain": [
       "GridSearchCV(cv=StratifiedKFold(n_splits=3, random_state=13, shuffle=True),\n",
       "             error_score=nan,\n",
       "             estimator=RandomForestClassifier(bootstrap=True, ccp_alpha=0.0,\n",
       "                                              class_weight=None,\n",
       "                                              criterion='gini', max_depth=None,\n",
       "                                              max_features='auto',\n",
       "                                              max_leaf_nodes=None,\n",
       "                                              max_samples=None,\n",
       "                                              min_impurity_decrease=0.0,\n",
       "                                              min_impurity_split=None,\n",
       "                                              min_samples_leaf=1,\n",
       "                                              min_samples_split=2,\n",
       "                                              min...\n",
       "                                              random_state=None, verbose=0,\n",
       "                                              warm_start=False),\n",
       "             iid='deprecated', n_jobs=8,\n",
       "             param_grid={'criterion': ['gini', 'entropy'],\n",
       "                         'max_depth': ['None', 25, 50, 100, 200],\n",
       "                         'min_samples_leaf': [1, 4, 16, 64, 128],\n",
       "                         'min_samples_split': [2, 4, 16, 64, 256],\n",
       "                         'n_estimators': [50, 100, 200, 400],\n",
       "                         'random_state': [13]},\n",
       "             pre_dispatch='2*n_jobs', refit=True, return_train_score=False,\n",
       "             scoring='accuracy', verbose=1)"
      ]
     },
     "execution_count": 19,
     "metadata": {},
     "output_type": "execute_result"
    }
   ],
   "source": [
    "%%time\n",
    "from sklearn.model_selection import GridSearchCV\n",
    "from sklearn.ensemble import RandomForestClassifier\n",
    "RF_pcEstimator = RandomForestClassifier()\n",
    "\n",
    "RF_pcparameters = { 'n_estimators':[50, 100, 200, 400]\n",
    "                ,'max_depth': ['None', 25, 50, 100, 200]\n",
    "                ,'criterion': ['gini', 'entropy']\n",
    "                ,'min_samples_split': [2, 4, 16, 64, 256]\n",
    "                ,'min_samples_leaf': [1, 4, 16, 64, 128]\n",
    "                ,'random_state': [13]\n",
    "               }\n",
    "\n",
    "RF_pcGridSearch = GridSearchCV(estimator=RF_pcEstimator\n",
    "                   , n_jobs=8 # jobs to run in parallel\n",
    "                   , verbose=1 # low verbosity\n",
    "                   , param_grid=RF_pcparameters\n",
    "                   , cv=cv_object_GS # KFolds = 3\n",
    "                   , scoring='accuracy')\n",
    "\n",
    "RF_pcGridSearch.fit(X_pc,y_pc)"
   ]
  },
  {
   "cell_type": "code",
   "execution_count": 20,
   "metadata": {
    "colab": {},
    "colab_type": "code",
    "id": "M8SPbRKh2jLl",
    "scrolled": true
   },
   "outputs": [
    {
     "data": {
      "text/plain": [
       "RandomForestClassifier(bootstrap=True, ccp_alpha=0.0, class_weight=None,\n",
       "                       criterion='entropy', max_depth=25, max_features='auto',\n",
       "                       max_leaf_nodes=None, max_samples=None,\n",
       "                       min_impurity_decrease=0.0, min_impurity_split=None,\n",
       "                       min_samples_leaf=1, min_samples_split=4,\n",
       "                       min_weight_fraction_leaf=0.0, n_estimators=400,\n",
       "                       n_jobs=None, oob_score=False, random_state=13, verbose=0,\n",
       "                       warm_start=False)"
      ]
     },
     "execution_count": 20,
     "metadata": {},
     "output_type": "execute_result"
    }
   ],
   "source": [
    "#Diplay the top model parameters\n",
    "RF_pcGridSearch.best_estimator_"
   ]
  },
  {
   "cell_type": "code",
   "execution_count": 71,
   "metadata": {
    "colab": {},
    "colab_type": "code",
    "id": "CEfOTJ5PJhUz"
   },
   "outputs": [
    {
     "name": "stdout",
     "output_type": "stream",
     "text": [
      "Model Performance:\n",
      "*******************************************************************************************************************\n",
      "The accuracy of this 10 - fold, stratified cross validation Random Forest model is: 81.0 %\n",
      "\n",
      "The confusion matrix for this 10 - fold, stratified cross validation Random Forest model can be seen below.\n",
      "\n",
      "Model Run Time: \n",
      "CPU times: user 13min 44s, sys: 4.55 s, total: 13min 49s\n",
      "Wall time: 13min 50s\n"
     ]
    },
    {
     "data": {
      "image/png": "[encoded data removed]",
      "text/plain": [
       "<Figure size 1152x720 with 2 Axes>"
      ]
     },
     "metadata": {},
     "output_type": "display_data"
    }
   ],
   "source": [
    "%%time\n",
    "modelType = 'Random Forest'\n",
    "RF_pcBestParameters = RF_pcGridSearch.best_estimator_\n",
    "FitAndPredictMulti(RF_pcBestParameters, X_pc, y_pc, cv_object, modelType)"
   ]
  },
  {
   "cell_type": "markdown",
   "metadata": {
    "colab_type": "text",
    "id": "yUuFzmYJp3VS"
   },
   "source": [
    "##### **2.3.2.2 Random Forest To Classify Collar Class**"
   ]
  },
  {
   "cell_type": "code",
   "execution_count": 22,
   "metadata": {
    "colab": {},
    "colab_type": "code",
    "id": "McZETPpAwdJu"
   },
   "outputs": [
    {
     "name": "stdout",
     "output_type": "stream",
     "text": [
      "Fitting 3 folds for each of 1000 candidates, totalling 3000 fits\n"
     ]
    },
    {
     "name": "stderr",
     "output_type": "stream",
     "text": [
      "[Parallel(n_jobs=8)]: Using backend LokyBackend with 8 concurrent workers.\n",
      "[Parallel(n_jobs=8)]: Done  34 tasks      | elapsed:    2.7s\n",
      "[Parallel(n_jobs=8)]: Done 184 tasks      | elapsed:    6.6s\n",
      "[Parallel(n_jobs=8)]: Done 434 tasks      | elapsed:  9.1min\n",
      "[Parallel(n_jobs=8)]: Done 784 tasks      | elapsed: 29.4min\n",
      "[Parallel(n_jobs=8)]: Done 1234 tasks      | elapsed: 54.9min\n",
      "[Parallel(n_jobs=8)]: Done 1784 tasks      | elapsed: 70.1min\n",
      "[Parallel(n_jobs=8)]: Done 2434 tasks      | elapsed: 109.1min\n",
      "[Parallel(n_jobs=8)]: Done 3000 out of 3000 | elapsed: 143.5min finished\n"
     ]
    },
    {
     "name": "stdout",
     "output_type": "stream",
     "text": [
      "CPU times: user 1min 18s, sys: 1.65 s, total: 1min 20s\n",
      "Wall time: 2h 24min 40s\n"
     ]
    },
    {
     "data": {
      "text/plain": [
       "GridSearchCV(cv=StratifiedKFold(n_splits=3, random_state=13, shuffle=True),\n",
       "             error_score=nan,\n",
       "             estimator=RandomForestClassifier(bootstrap=True, ccp_alpha=0.0,\n",
       "                                              class_weight=None,\n",
       "                                              criterion='gini', max_depth=None,\n",
       "                                              max_features='auto',\n",
       "                                              max_leaf_nodes=None,\n",
       "                                              max_samples=None,\n",
       "                                              min_impurity_decrease=0.0,\n",
       "                                              min_impurity_split=None,\n",
       "                                              min_samples_leaf=1,\n",
       "                                              min_samples_split=2,\n",
       "                                              min...\n",
       "                                              random_state=None, verbose=0,\n",
       "                                              warm_start=False),\n",
       "             iid='deprecated', n_jobs=8,\n",
       "             param_grid={'criterion': ['gini', 'entropy'],\n",
       "                         'max_depth': ['None', 25, 50, 100, 200],\n",
       "                         'min_samples_leaf': [1, 4, 16, 64, 128],\n",
       "                         'min_samples_split': [2, 4, 16, 64, 256],\n",
       "                         'n_estimators': [50, 100, 200, 400],\n",
       "                         'random_state': [13]},\n",
       "             pre_dispatch='2*n_jobs', refit=True, return_train_score=False,\n",
       "             scoring='accuracy', verbose=1)"
      ]
     },
     "execution_count": 22,
     "metadata": {},
     "output_type": "execute_result"
    }
   ],
   "source": [
    "%%time\n",
    "from sklearn.model_selection import GridSearchCV\n",
    "from sklearn.ensemble import RandomForestClassifier\n",
    "RF_ccEstimator = RandomForestClassifier()\n",
    "\n",
    "RF_ccparameters = { 'n_estimators':[50, 100, 200, 400]\n",
    "                ,'max_depth': ['None', 25, 50, 100, 200]\n",
    "                ,'criterion': ['gini', 'entropy']\n",
    "                ,'min_samples_split': [2, 4, 16, 64, 256]\n",
    "                ,'min_samples_leaf': [1, 4, 16, 64, 128]\n",
    "                ,'random_state': [13]\n",
    "               }\n",
    "\n",
    "RF_ccGridSearch = GridSearchCV(estimator=RF_ccEstimator\n",
    "                   , n_jobs=8 # jobs to run in parallel\n",
    "                   , verbose=1 # low verbosity\n",
    "                   , param_grid=RF_ccparameters\n",
    "                   , cv=cv_object_GS # KFolds = 3\n",
    "                   , scoring='accuracy')\n",
    "\n",
    "RF_ccGridSearch.fit(X_cc,y_cc)"
   ]
  },
  {
   "cell_type": "code",
   "execution_count": 23,
   "metadata": {
    "colab": {},
    "colab_type": "code",
    "id": "v8oOFp4twdWh"
   },
   "outputs": [
    {
     "data": {
      "text/plain": [
       "RandomForestClassifier(bootstrap=True, ccp_alpha=0.0, class_weight=None,\n",
       "                       criterion='entropy', max_depth=50, max_features='auto',\n",
       "                       max_leaf_nodes=None, max_samples=None,\n",
       "                       min_impurity_decrease=0.0, min_impurity_split=None,\n",
       "                       min_samples_leaf=1, min_samples_split=4,\n",
       "                       min_weight_fraction_leaf=0.0, n_estimators=400,\n",
       "                       n_jobs=None, oob_score=False, random_state=13, verbose=0,\n",
       "                       warm_start=False)"
      ]
     },
     "execution_count": 23,
     "metadata": {},
     "output_type": "execute_result"
    }
   ],
   "source": [
    "#Diplay the top model parameters\n",
    "RF_ccGridSearch.best_estimator_"
   ]
  },
  {
   "cell_type": "code",
   "execution_count": 70,
   "metadata": {
    "colab": {},
    "colab_type": "code",
    "id": "xT_zW5AFwdi_",
    "scrolled": false
   },
   "outputs": [
    {
     "name": "stdout",
     "output_type": "stream",
     "text": [
      "Model Performance:\n",
      "*******************************************************************************************************************\n",
      "The accuracy of this 10 - fold, stratified cross validation Random Forest model is: 83.79 %\n",
      "The precision of this 10 - fold, stratified cross validation Random Forest model is: 75.88 %\n",
      "The recall of this 10 - fold, stratified cross validation Random Forest model is: 65.79 %\n",
      "\n",
      "The confusion matrix for this 10 - fold, stratified cross validation Random Forest model can be seen below.\n",
      "\n",
      "Model Run Time: \n",
      "CPU times: user 9min 43s, sys: 3.15 s, total: 9min 46s\n",
      "Wall time: 9min 46s\n"
     ]
    },
    {
     "data": {
      "image/png": "[encoded data removed]",
      "text/plain": [
       "<Figure size 1152x720 with 2 Axes>"
      ]
     },
     "metadata": {},
     "output_type": "display_data"
    }
   ],
   "source": [
    "%%time\n",
    "modelType = 'Random Forest'\n",
    "RF_ccBestParameters = RF_ccGridSearch.best_estimator_\n",
    "FitAndPredictBinary(RF_ccBestParameters, X_cc, y_cc, cv_object, modelType)"
   ]
  },
  {
   "cell_type": "markdown",
   "metadata": {
    "colab_type": "text",
    "id": "8w8mtOSKVLp2"
   },
   "source": [
    "#### **2.3.3 Model 3 - Logistic Regression**"
   ]
  },
  {
   "cell_type": "markdown",
   "metadata": {
    "colab_type": "text",
    "id": "sBaMNLo-p6RS"
   },
   "source": [
    "##### **2.3.3.1 Logistic Regression To Classify Poverty Class**"
   ]
  },
  {
   "cell_type": "code",
   "execution_count": 13,
   "metadata": {
    "colab": {},
    "colab_type": "code",
    "id": "otEGsHjdw2ge"
   },
   "outputs": [
    {
     "name": "stdout",
     "output_type": "stream",
     "text": [
      "Fitting 3 folds for each of 672 candidates, totalling 2016 fits\n"
     ]
    },
    {
     "name": "stderr",
     "output_type": "stream",
     "text": [
      "[Parallel(n_jobs=8)]: Using backend LokyBackend with 8 concurrent workers.\n",
      "[Parallel(n_jobs=8)]: Done  34 tasks      | elapsed:    4.0s\n",
      "[Parallel(n_jobs=8)]: Done 189 tasks      | elapsed:   13.4s\n",
      "[Parallel(n_jobs=8)]: Done 730 tasks      | elapsed:  1.6min\n",
      "[Parallel(n_jobs=8)]: Done 1288 tasks      | elapsed:  5.5min\n",
      "[Parallel(n_jobs=8)]: Done 1816 tasks      | elapsed:  9.4min\n",
      "[Parallel(n_jobs=8)]: Done 2016 out of 2016 | elapsed: 10.8min finished\n"
     ]
    },
    {
     "name": "stdout",
     "output_type": "stream",
     "text": [
      "CPU times: user 18.6 s, sys: 681 ms, total: 19.3 s\n",
      "Wall time: 11min 2s\n"
     ]
    },
    {
     "data": {
      "text/plain": [
       "GridSearchCV(cv=StratifiedKFold(n_splits=3, random_state=13, shuffle=True),\n",
       "             error_score=nan,\n",
       "             estimator=LogisticRegression(C=1.0, class_weight=None, dual=False,\n",
       "                                          fit_intercept=True,\n",
       "                                          intercept_scaling=1, l1_ratio=None,\n",
       "                                          max_iter=100, multi_class='auto',\n",
       "                                          n_jobs=None, penalty='l2',\n",
       "                                          random_state=None, solver='lbfgs',\n",
       "                                          tol=0.0001, verbose=0,\n",
       "                                          warm_start=False),\n",
       "             iid='deprecated', n_jobs=8,\n",
       "             param_grid={'C': [0.001, 0.01, 0.1, 1, 10, 100, 1000],\n",
       "                         'class_weight': ['balanced', 'none'],\n",
       "                         'max_iter': [500, 2500, 5000, 10000],\n",
       "                         'multi_class': ['multinomial'],\n",
       "                         'penalty': ['l1', 'elasticnet', 'l2'],\n",
       "                         'random_state': [13],\n",
       "                         'solver': ['lbfgs', 'saga', 'newton-cg', 'liblinear']},\n",
       "             pre_dispatch='2*n_jobs', refit=True, return_train_score=False,\n",
       "             scoring='accuracy', verbose=1)"
      ]
     },
     "execution_count": 13,
     "metadata": {},
     "output_type": "execute_result"
    }
   ],
   "source": [
    "%%time\n",
    "from sklearn.linear_model import LogisticRegression\n",
    "LR_pcEstimator = LogisticRegression()\n",
    "\n",
    "LR_pcparameters = { 'penalty':['l1','elasticnet','l2']\n",
    "              ,'C': [0.001, 0.01, 0.1, 1, 10, 100, 1000]\n",
    "              ,'class_weight': ['balanced','none']\n",
    "              ,'solver': ['lbfgs','saga','newton-cg','liblinear']\n",
    "              ,'multi_class': ['multinomial']\n",
    "              ,'max_iter':[500, 2500, 5000, 10000]\n",
    "              ,'random_state': [13]\n",
    "             }\n",
    "\n",
    "#Create a grid search object using the  \n",
    "from sklearn.model_selection import GridSearchCV\n",
    "LR_pcGridSearch = GridSearchCV(estimator=LR_pcEstimator\n",
    "                   , n_jobs=8 # jobs to run in parallel\n",
    "                   , verbose=1 # low verbosity\n",
    "                   , param_grid=LR_pcparameters\n",
    "                   , cv=cv_object_GS # KFolds = 3\n",
    "                   , scoring='accuracy')\n",
    "\n",
    "#Perform hyperparameter search to find the best combination of parameters for our data\n",
    "LR_pcGridSearch.fit(X_pc,y_pc)"
   ]
  },
  {
   "cell_type": "code",
   "execution_count": 14,
   "metadata": {
    "colab": {},
    "colab_type": "code",
    "id": "Sk4lF9h3w23l"
   },
   "outputs": [
    {
     "data": {
      "text/plain": [
       "LogisticRegression(C=0.1, class_weight='balanced', dual=False,\n",
       "                   fit_intercept=True, intercept_scaling=1, l1_ratio=None,\n",
       "                   max_iter=500, multi_class='multinomial', n_jobs=None,\n",
       "                   penalty='l1', random_state=13, solver='saga', tol=0.0001,\n",
       "                   verbose=0, warm_start=False)"
      ]
     },
     "execution_count": 14,
     "metadata": {},
     "output_type": "execute_result"
    }
   ],
   "source": [
    "#Diplay the top model parameters\n",
    "LR_pcGridSearch.best_estimator_"
   ]
  },
  {
   "cell_type": "code",
   "execution_count": 68,
   "metadata": {
    "colab": {},
    "colab_type": "code",
    "id": "k6NPfLftw3El"
   },
   "outputs": [
    {
     "name": "stdout",
     "output_type": "stream",
     "text": [
      "Model Performance:\n",
      "*******************************************************************************************************************\n",
      "The accuracy of this 10 - fold, stratified cross validation Logistic Regression model is: 79.5 %\n",
      "\n",
      "The confusion matrix for this 10 - fold, stratified cross validation Logistic Regression model can be seen below.\n",
      "\n",
      "Model Run Time: \n",
      "CPU times: user 2min 27s, sys: 2.85 s, total: 2min 30s\n",
      "Wall time: 2min 26s\n"
     ]
    },
    {
     "data": {
      "image/png": "[encoded data removed]",
      "text/plain": [
       "<Figure size 1152x720 with 2 Axes>"
      ]
     },
     "metadata": {},
     "output_type": "display_data"
    }
   ],
   "source": [
    "%%time\n",
    "modelType = 'Logistic Regression'\n",
    "LR_pcBestParameters = LR_pcGridSearch.best_estimator_\n",
    "FitAndPredictMulti(LR_pcBestParameters, X_pc, y_pc, cv_object, modelType)"
   ]
  },
  {
   "cell_type": "markdown",
   "metadata": {
    "colab_type": "text",
    "id": "sH1SAODHp_zz"
   },
   "source": [
    "##### **2.3.3.2 Logistic Regression To Classify Collar Class**"
   ]
  },
  {
   "cell_type": "code",
   "execution_count": 16,
   "metadata": {
    "colab": {},
    "colab_type": "code",
    "id": "YTMF-N8jw3yX"
   },
   "outputs": [
    {
     "name": "stdout",
     "output_type": "stream",
     "text": [
      "Fitting 3 folds for each of 672 candidates, totalling 2016 fits\n"
     ]
    },
    {
     "name": "stderr",
     "output_type": "stream",
     "text": [
      "[Parallel(n_jobs=8)]: Using backend LokyBackend with 8 concurrent workers.\n",
      "[Parallel(n_jobs=8)]: Done  52 tasks      | elapsed:    1.7s\n",
      "[Parallel(n_jobs=8)]: Done 349 tasks      | elapsed:   14.6s\n",
      "[Parallel(n_jobs=8)]: Done 602 tasks      | elapsed:   35.1s\n",
      "[Parallel(n_jobs=8)]: Done 952 tasks      | elapsed:  2.5min\n",
      "[Parallel(n_jobs=8)]: Done 1402 tasks      | elapsed:  6.3min\n",
      "[Parallel(n_jobs=8)]: Done 1952 tasks      | elapsed: 10.8min\n"
     ]
    },
    {
     "name": "stdout",
     "output_type": "stream",
     "text": [
      "CPU times: user 6.62 s, sys: 755 ms, total: 7.38 s\n",
      "Wall time: 11min 30s\n"
     ]
    },
    {
     "name": "stderr",
     "output_type": "stream",
     "text": [
      "[Parallel(n_jobs=8)]: Done 2016 out of 2016 | elapsed: 11.5min finished\n"
     ]
    },
    {
     "data": {
      "text/plain": [
       "GridSearchCV(cv=StratifiedKFold(n_splits=3, random_state=13, shuffle=True),\n",
       "             error_score=nan,\n",
       "             estimator=LogisticRegression(C=1.0, class_weight=None, dual=False,\n",
       "                                          fit_intercept=True,\n",
       "                                          intercept_scaling=1, l1_ratio=None,\n",
       "                                          max_iter=100, multi_class='auto',\n",
       "                                          n_jobs=None, penalty='l2',\n",
       "                                          random_state=None, solver='lbfgs',\n",
       "                                          tol=0.0001, verbose=0,\n",
       "                                          warm_start=False),\n",
       "             iid='deprecated', n_jobs=8,\n",
       "             param_grid={'C': [0.001, 0.01, 0.1, 1, 10, 100, 1000],\n",
       "                         'class_weight': ['balanced', 'none'],\n",
       "                         'max_iter': [500, 2500, 5000, 10000],\n",
       "                         'multi_class': ['ovr'],\n",
       "                         'penalty': ['l1', 'elasticnet', 'l2'],\n",
       "                         'random_state': [13],\n",
       "                         'solver': ['lbfgs', 'saga', 'newton-cg', 'liblinear']},\n",
       "             pre_dispatch='2*n_jobs', refit=True, return_train_score=False,\n",
       "             scoring='accuracy', verbose=1)"
      ]
     },
     "execution_count": 16,
     "metadata": {},
     "output_type": "execute_result"
    }
   ],
   "source": [
    "%%time\n",
    "from sklearn.linear_model import LogisticRegression\n",
    "LR_ccEstimator = LogisticRegression()\n",
    "\n",
    "LR_ccparameters = { 'penalty':['l1','elasticnet','l2']\n",
    "              ,'C': [0.001, 0.01, 0.1, 1, 10, 100, 1000]\n",
    "              ,'class_weight': ['balanced','none']\n",
    "              ,'solver': ['lbfgs','saga','newton-cg','liblinear']\n",
    "              ,'multi_class': ['ovr']\n",
    "              ,'max_iter':[500, 2500, 5000, 10000]\n",
    "              ,'random_state': [13]\n",
    "             }\n",
    "\n",
    "#Create a grid search object using the  \n",
    "from sklearn.model_selection import GridSearchCV\n",
    "LR_ccGridSearch = GridSearchCV(estimator=LR_ccEstimator\n",
    "                   , n_jobs=8 # jobs to run in parallel\n",
    "                   , verbose=1 # low verbosity\n",
    "                   , param_grid=LR_ccparameters\n",
    "                   , cv=cv_object_GS # KFolds = 3\n",
    "                   , scoring='accuracy')\n",
    "\n",
    "#Perform hyperparameter search to find the best combination of parameters for our data\n",
    "LR_ccGridSearch.fit(X_cc,y_cc)"
   ]
  },
  {
   "cell_type": "code",
   "execution_count": 17,
   "metadata": {
    "colab": {},
    "colab_type": "code",
    "id": "EOJR_XjXw39I"
   },
   "outputs": [
    {
     "data": {
      "text/plain": [
       "LogisticRegression(C=0.1, class_weight='none', dual=False, fit_intercept=True,\n",
       "                   intercept_scaling=1, l1_ratio=None, max_iter=500,\n",
       "                   multi_class='ovr', n_jobs=None, penalty='l2',\n",
       "                   random_state=13, solver='lbfgs', tol=0.0001, verbose=0,\n",
       "                   warm_start=False)"
      ]
     },
     "execution_count": 17,
     "metadata": {},
     "output_type": "execute_result"
    }
   ],
   "source": [
    "#Diplay the top model parameters\n",
    "LR_ccGridSearch.best_estimator_"
   ]
  },
  {
   "cell_type": "code",
   "execution_count": 69,
   "metadata": {
    "colab": {},
    "colab_type": "code",
    "id": "zEgGXAHQw4Gp",
    "scrolled": false
   },
   "outputs": [
    {
     "name": "stdout",
     "output_type": "stream",
     "text": [
      "Model Performance:\n",
      "*******************************************************************************************************************\n",
      "The accuracy of this 10 - fold, stratified cross validation Logistic Regression model is: 82.01 %\n",
      "The precision of this 10 - fold, stratified cross validation Logistic Regression model is: 73.18 %\n",
      "The recall of this 10 - fold, stratified cross validation Logistic Regression model is: 61.26 %\n",
      "\n",
      "The confusion matrix for this 10 - fold, stratified cross validation Logistic Regression model can be seen below.\n",
      "\n",
      "Model Run Time: \n",
      "CPU times: user 4.68 s, sys: 575 ms, total: 5.26 s\n",
      "Wall time: 1.35 s\n"
     ]
    },
    {
     "data": {
      "image/png": "[encoded data removed]",
      "text/plain": [
       "<Figure size 1152x720 with 2 Axes>"
      ]
     },
     "metadata": {},
     "output_type": "display_data"
    }
   ],
   "source": [
    "%%time\n",
    "modelType = 'Logistic Regression'\n",
    "LR_ccBestParameters = LR_ccGridSearch.best_estimator_\n",
    "FitAndPredictBinary(LR_ccBestParameters, X_cc, y_cc, cv_object, modelType)"
   ]
  },
  {
   "cell_type": "markdown",
   "metadata": {
    "colab_type": "text",
    "id": "SHXneXmdVdRP"
   },
   "source": [
    "### **2.4 Modeling and Evaluation 4: Analyze Results**"
   ]
  },
  {
   "cell_type": "markdown",
   "metadata": {
    "colab_type": "text",
    "id": "AvGv1MvIxKjJ"
   },
   "source": [
    "|  Class Variable  |  Model                 |  Accuracy  |    Time    |\n",
    "|------------------|------------------------|------------|------------|\n",
    "| PovertyClass     |  KNN                   |            |            |\n",
    "| PovertyClass     |  Random Forest         |            |            |\n",
    "| PovertyClass     |  Logistic Regression   "
   ]
  },
  {
   "cell_type": "markdown",
   "metadata": {
    "colab_type": "text",
    "id": "Mm2DAPHCgUWd"
   },
   "source": [
    "|Class Variable|Model|Precision|Recall|Accuracy|Time|\n",
    "|------------------|------------------------|-------|-------|----|----|\n",
    "| CollarClass      |  KNN                   |       |       |    |    |\n",
    "| CollarClass      |  Random Forest         |       |       |    |    |\n",
    "| CollarClass      |  Logistic Regression   |       |       |    |    |"
   ]
  },
  {
   "cell_type": "markdown",
   "metadata": {
    "colab_type": "text",
    "id": "kCYEp1qJVyxw"
   },
   "source": [
    "### **2.5 Modeling and Evaluation 5: Advantages of Each Model**"
   ]
  },
  {
   "cell_type": "markdown",
   "metadata": {
    "colab_type": "text",
    "id": "EWJCoSvoV6Tu"
   },
   "source": [
    "### **2.6 Modeling and Evaluation 6: Identify Important Attributes**"
   ]
  },
  {
   "cell_type": "markdown",
   "metadata": {
    "colab_type": "text",
    "id": "z39eg-L9SD5l"
   },
   "source": [
    "##**3. Deployment**"
   ]
  },
  {
   "cell_type": "markdown",
   "metadata": {
    "colab_type": "text",
    "id": "qP_jALW2SKeE"
   },
   "source": [
    "##**4. Exceptional Work**"
   ]
  },
  {
   "cell_type": "markdown",
   "metadata": {
    "colab_type": "text",
    "id": "mUurTbZZrlW1"
   },
   "source": [
    "Decision Tree"
   ]
  }
 ],
 "metadata": {
  "colab": {
   "collapsed_sections": [],
   "name": "Lab2_Group2.ipynb",
   "provenance": [],
   "toc_visible": true
  },
  "kernelspec": {
   "display_name": "Python 3",
   "language": "python",
   "name": "python3"
  },
  "language_info": {
   "codemirror_mode": {
    "name": "ipython",
    "version": 3
   },
   "file_extension": ".py",
   "mimetype": "text/x-python",
   "name": "python",
   "nbconvert_exporter": "python",
   "pygments_lexer": "ipython3",
   "version": "3.7.7"
  }
 },
 "nbformat": 4,
 "nbformat_minor": 1
}
